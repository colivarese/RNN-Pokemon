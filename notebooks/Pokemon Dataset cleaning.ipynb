{
 "cells": [
  {
   "cell_type": "code",
   "execution_count": 3,
   "id": "84bdc43e",
   "metadata": {},
   "outputs": [],
   "source": [
    "import pandas as pd\n",
    "from langdetect import detect"
   ]
  },
  {
   "cell_type": "code",
   "execution_count": 8,
   "id": "1d1d765a",
   "metadata": {},
   "outputs": [],
   "source": [
    "df = pd.read_csv('arceus_reviews.csv')"
   ]
  },
  {
   "cell_type": "code",
   "execution_count": 9,
   "id": "6a1bfb07",
   "metadata": {},
   "outputs": [
    {
     "data": {
      "text/html": [
       "<div>\n",
       "<style scoped>\n",
       "    .dataframe tbody tr th:only-of-type {\n",
       "        vertical-align: middle;\n",
       "    }\n",
       "\n",
       "    .dataframe tbody tr th {\n",
       "        vertical-align: top;\n",
       "    }\n",
       "\n",
       "    .dataframe thead th {\n",
       "        text-align: right;\n",
       "    }\n",
       "</style>\n",
       "<table border=\"1\" class=\"dataframe\">\n",
       "  <thead>\n",
       "    <tr style=\"text-align: right;\">\n",
       "      <th></th>\n",
       "      <th>review</th>\n",
       "      <th>date</th>\n",
       "      <th>score</th>\n",
       "      <th>helpful</th>\n",
       "      <th>number_of_reviews</th>\n",
       "      <th>number_of_ratings</th>\n",
       "      <th>average_user_score</th>\n",
       "    </tr>\n",
       "  </thead>\n",
       "  <tbody>\n",
       "    <tr>\n",
       "      <th>0</th>\n",
       "      <td>A fun reinvention of the Pokémon formula, hope...</td>\n",
       "      <td>Jan 29, 2022</td>\n",
       "      <td>10</td>\n",
       "      <td>49 of 62 users found this helpful</td>\n",
       "      <td>2 Reviews</td>\n",
       "      <td>2 Ratings</td>\n",
       "      <td>0.0</td>\n",
       "    </tr>\n",
       "    <tr>\n",
       "      <th>1</th>\n",
       "      <td>A fun, challenging (at times), Pokemon game wi...</td>\n",
       "      <td>Jan 30, 2022</td>\n",
       "      <td>10</td>\n",
       "      <td>52 of 72 users found this helpful</td>\n",
       "      <td>60 Reviews</td>\n",
       "      <td>111 Ratings</td>\n",
       "      <td>5.8</td>\n",
       "    </tr>\n",
       "    <tr>\n",
       "      <th>2</th>\n",
       "      <td>El juego más infravalorado de la saga y posibl...</td>\n",
       "      <td>Jan 29, 2022</td>\n",
       "      <td>10</td>\n",
       "      <td>48 of 62 users found this helpful</td>\n",
       "      <td>8 Reviews</td>\n",
       "      <td>12 Ratings</td>\n",
       "      <td>7.2</td>\n",
       "    </tr>\n",
       "    <tr>\n",
       "      <th>3</th>\n",
       "      <td>Best pokemon game of all time! New pokemon, ne...</td>\n",
       "      <td>Jan 30, 2022</td>\n",
       "      <td>10</td>\n",
       "      <td>28 of 35 users found this helpful</td>\n",
       "      <td>1 Review</td>\n",
       "      <td>4 Ratings</td>\n",
       "      <td>5.0</td>\n",
       "    </tr>\n",
       "    <tr>\n",
       "      <th>4</th>\n",
       "      <td>One outstanding experience, that is certain. I...</td>\n",
       "      <td>Feb 3, 2022</td>\n",
       "      <td>10</td>\n",
       "      <td>4 of 8 users found this helpful</td>\n",
       "      <td>1 Review</td>\n",
       "      <td>14 Ratings</td>\n",
       "      <td>9.0</td>\n",
       "    </tr>\n",
       "  </tbody>\n",
       "</table>\n",
       "</div>"
      ],
      "text/plain": [
       "                                              review          date  score  \\\n",
       "0  A fun reinvention of the Pokémon formula, hope...  Jan 29, 2022     10   \n",
       "1  A fun, challenging (at times), Pokemon game wi...  Jan 30, 2022     10   \n",
       "2  El juego más infravalorado de la saga y posibl...  Jan 29, 2022     10   \n",
       "3  Best pokemon game of all time! New pokemon, ne...  Jan 30, 2022     10   \n",
       "4  One outstanding experience, that is certain. I...   Feb 3, 2022     10   \n",
       "\n",
       "                             helpful number_of_reviews number_of_ratings  \\\n",
       "0  49 of 62 users found this helpful         2 Reviews         2 Ratings   \n",
       "1  52 of 72 users found this helpful        60 Reviews       111 Ratings   \n",
       "2  48 of 62 users found this helpful         8 Reviews        12 Ratings   \n",
       "3  28 of 35 users found this helpful          1 Review         4 Ratings   \n",
       "4    4 of 8 users found this helpful          1 Review        14 Ratings   \n",
       "\n",
       "   average_user_score  \n",
       "0                 0.0  \n",
       "1                 5.8  \n",
       "2                 7.2  \n",
       "3                 5.0  \n",
       "4                 9.0  "
      ]
     },
     "execution_count": 9,
     "metadata": {},
     "output_type": "execute_result"
    }
   ],
   "source": [
    "df.head()"
   ]
  },
  {
   "cell_type": "markdown",
   "id": "5969850f",
   "metadata": {},
   "source": [
    "## Unicamente nos es de utilidad las criticas, por lo que solo mantendremos esa columna."
   ]
  },
  {
   "cell_type": "code",
   "execution_count": 10,
   "id": "076cb212",
   "metadata": {},
   "outputs": [],
   "source": [
    "df = df['review'].to_frame()"
   ]
  },
  {
   "cell_type": "code",
   "execution_count": 11,
   "id": "d0f242a3",
   "metadata": {},
   "outputs": [
    {
     "data": {
      "text/html": [
       "<div>\n",
       "<style scoped>\n",
       "    .dataframe tbody tr th:only-of-type {\n",
       "        vertical-align: middle;\n",
       "    }\n",
       "\n",
       "    .dataframe tbody tr th {\n",
       "        vertical-align: top;\n",
       "    }\n",
       "\n",
       "    .dataframe thead th {\n",
       "        text-align: right;\n",
       "    }\n",
       "</style>\n",
       "<table border=\"1\" class=\"dataframe\">\n",
       "  <thead>\n",
       "    <tr style=\"text-align: right;\">\n",
       "      <th></th>\n",
       "      <th>review</th>\n",
       "    </tr>\n",
       "  </thead>\n",
       "  <tbody>\n",
       "    <tr>\n",
       "      <th>0</th>\n",
       "      <td>A fun reinvention of the Pokémon formula, hope...</td>\n",
       "    </tr>\n",
       "    <tr>\n",
       "      <th>1</th>\n",
       "      <td>A fun, challenging (at times), Pokemon game wi...</td>\n",
       "    </tr>\n",
       "    <tr>\n",
       "      <th>2</th>\n",
       "      <td>El juego más infravalorado de la saga y posibl...</td>\n",
       "    </tr>\n",
       "    <tr>\n",
       "      <th>3</th>\n",
       "      <td>Best pokemon game of all time! New pokemon, ne...</td>\n",
       "    </tr>\n",
       "    <tr>\n",
       "      <th>4</th>\n",
       "      <td>One outstanding experience, that is certain. I...</td>\n",
       "    </tr>\n",
       "  </tbody>\n",
       "</table>\n",
       "</div>"
      ],
      "text/plain": [
       "                                              review\n",
       "0  A fun reinvention of the Pokémon formula, hope...\n",
       "1  A fun, challenging (at times), Pokemon game wi...\n",
       "2  El juego más infravalorado de la saga y posibl...\n",
       "3  Best pokemon game of all time! New pokemon, ne...\n",
       "4  One outstanding experience, that is certain. I..."
      ]
     },
     "execution_count": 11,
     "metadata": {},
     "output_type": "execute_result"
    }
   ],
   "source": [
    "df.head()"
   ]
  },
  {
   "cell_type": "code",
   "execution_count": 12,
   "id": "8e289ef2",
   "metadata": {},
   "outputs": [
    {
     "data": {
      "text/plain": [
       "1067"
      ]
     },
     "execution_count": 12,
     "metadata": {},
     "output_type": "execute_result"
    }
   ],
   "source": [
    "len(df)"
   ]
  },
  {
   "cell_type": "markdown",
   "id": "1bb81619",
   "metadata": {},
   "source": [
    "## Tenemos 1067 criticas."
   ]
  },
  {
   "cell_type": "markdown",
   "id": "f57992cb",
   "metadata": {},
   "source": [
    "## Encontremos el lenguaje de cada critica con **langdetect**"
   ]
  },
  {
   "cell_type": "code",
   "execution_count": 13,
   "id": "eb959742",
   "metadata": {},
   "outputs": [],
   "source": [
    "df['language'] = df['review'].apply(detect)"
   ]
  },
  {
   "cell_type": "code",
   "execution_count": 18,
   "id": "4a851bd1",
   "metadata": {},
   "outputs": [
    {
     "data": {
      "text/plain": [
       "array(['en', 'es', 'tr', 'ru', 'pt', 'it', 'id', 'de', 'fr', 'no', 'ja',\n",
       "       'ko', 'zh-cn'], dtype=object)"
      ]
     },
     "execution_count": 18,
     "metadata": {},
     "output_type": "execute_result"
    }
   ],
   "source": [
    "df['language'].unique()"
   ]
  },
  {
   "cell_type": "code",
   "execution_count": 17,
   "id": "173dc251",
   "metadata": {},
   "outputs": [
    {
     "name": "stdout",
     "output_type": "stream",
     "text": [
      "13\n"
     ]
    }
   ],
   "source": [
    "print(len(df['language'].unique()))"
   ]
  },
  {
   "cell_type": "markdown",
   "id": "520fb5b0",
   "metadata": {},
   "source": [
    "## langdetect encontro 13 idiomas, conservemos unicamente los que están en inglés"
   ]
  },
  {
   "cell_type": "code",
   "execution_count": 19,
   "id": "7bd943b3",
   "metadata": {},
   "outputs": [],
   "source": [
    "df = df[df['language'] == 'en']"
   ]
  },
  {
   "cell_type": "code",
   "execution_count": 20,
   "id": "06d0ec24",
   "metadata": {},
   "outputs": [
    {
     "data": {
      "text/html": [
       "<div>\n",
       "<style scoped>\n",
       "    .dataframe tbody tr th:only-of-type {\n",
       "        vertical-align: middle;\n",
       "    }\n",
       "\n",
       "    .dataframe tbody tr th {\n",
       "        vertical-align: top;\n",
       "    }\n",
       "\n",
       "    .dataframe thead th {\n",
       "        text-align: right;\n",
       "    }\n",
       "</style>\n",
       "<table border=\"1\" class=\"dataframe\">\n",
       "  <thead>\n",
       "    <tr style=\"text-align: right;\">\n",
       "      <th></th>\n",
       "      <th>review</th>\n",
       "      <th>language</th>\n",
       "    </tr>\n",
       "  </thead>\n",
       "  <tbody>\n",
       "    <tr>\n",
       "      <th>0</th>\n",
       "      <td>A fun reinvention of the Pokémon formula, hope...</td>\n",
       "      <td>en</td>\n",
       "    </tr>\n",
       "    <tr>\n",
       "      <th>1</th>\n",
       "      <td>A fun, challenging (at times), Pokemon game wi...</td>\n",
       "      <td>en</td>\n",
       "    </tr>\n",
       "    <tr>\n",
       "      <th>3</th>\n",
       "      <td>Best pokemon game of all time! New pokemon, ne...</td>\n",
       "      <td>en</td>\n",
       "    </tr>\n",
       "    <tr>\n",
       "      <th>4</th>\n",
       "      <td>One outstanding experience, that is certain. I...</td>\n",
       "      <td>en</td>\n",
       "    </tr>\n",
       "    <tr>\n",
       "      <th>5</th>\n",
       "      <td>Incredible game that moves the Pokemon series ...</td>\n",
       "      <td>en</td>\n",
       "    </tr>\n",
       "  </tbody>\n",
       "</table>\n",
       "</div>"
      ],
      "text/plain": [
       "                                              review language\n",
       "0  A fun reinvention of the Pokémon formula, hope...       en\n",
       "1  A fun, challenging (at times), Pokemon game wi...       en\n",
       "3  Best pokemon game of all time! New pokemon, ne...       en\n",
       "4  One outstanding experience, that is certain. I...       en\n",
       "5  Incredible game that moves the Pokemon series ...       en"
      ]
     },
     "execution_count": 20,
     "metadata": {},
     "output_type": "execute_result"
    }
   ],
   "source": [
    "df.head()"
   ]
  },
  {
   "cell_type": "code",
   "execution_count": 21,
   "id": "51f409dc",
   "metadata": {},
   "outputs": [
    {
     "data": {
      "text/plain": [
       "835"
      ]
     },
     "execution_count": 21,
     "metadata": {},
     "output_type": "execute_result"
    }
   ],
   "source": [
    "len(df)"
   ]
  },
  {
   "cell_type": "markdown",
   "id": "e9de12ec",
   "metadata": {},
   "source": [
    "## Tenemos 835 críticas en ingles, usaremos estas para entrenar nuestra red."
   ]
  },
  {
   "cell_type": "code",
   "execution_count": 22,
   "id": "bd87113e",
   "metadata": {},
   "outputs": [],
   "source": [
    "df.to_csv('eng_reviews.csv')"
   ]
  }
 ],
 "metadata": {
  "kernelspec": {
   "display_name": "Python [conda env:RNA]",
   "language": "python",
   "name": "conda-env-RNA-py"
  },
  "language_info": {
   "codemirror_mode": {
    "name": "ipython",
    "version": 3
   },
   "file_extension": ".py",
   "mimetype": "text/x-python",
   "name": "python",
   "nbconvert_exporter": "python",
   "pygments_lexer": "ipython3",
   "version": "3.8.0"
  }
 },
 "nbformat": 4,
 "nbformat_minor": 5
}
